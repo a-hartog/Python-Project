{
  "nbformat": 4,
  "nbformat_minor": 0,
  "metadata": {
    "colab": {
      "provenance": []
    },
    "kernelspec": {
      "name": "python3",
      "display_name": "Python 3"
    },
    "language_info": {
      "name": "python"
    }
  },
  "cells": [
    {
      "cell_type": "markdown",
      "source": [
        "# Final Project: Tic-Tac-Toe\n",
        "\n",
        "Group Roster: Andrew Hartog, Chris Frutuso\n",
        "\n",
        "Question Assigned: Question 1"
      ],
      "metadata": {
        "id": "5ocNWkMQ7U03"
      }
    },
    {
      "cell_type": "code",
      "source": [
        "import random\n",
        "import math"
      ],
      "metadata": {
        "id": "b0leogzKZeM3"
      },
      "execution_count": 19,
      "outputs": []
    },
    {
      "cell_type": "markdown",
      "source": [
        "Tic-Tac-Toe\n",
        "Below is a complete program (with multiple utility functions) for a simple Tic-tac-toe game."
      ],
      "metadata": {
        "id": "eooGAp81Zn-5"
      }
    },
    {
      "cell_type": "code",
      "source": [
        "def init_board(n=3):\n",
        "  '''\n",
        "  n: the size of the board\n",
        "  we want our board to be 3x3\n",
        "  ---\n",
        "  board: the play area status\n",
        "  '''\n",
        "  board = [] ## defining the 'board' as a list\n",
        "  for i in range(n):\n",
        "    row = ['-' for j in range(n)] ## '-' for each row of 'n'\n",
        "    board.append(row) ## adds a row to the 'board' list\n",
        "  return(board)"
      ],
      "metadata": {
        "id": "juI3bg-8Zz9x"
      },
      "execution_count": 2,
      "outputs": []
    },
    {
      "cell_type": "code",
      "source": [
        "def print_board(board):\n",
        "  '''\n",
        "  the board needs to be playable\n",
        "  '''\n",
        "  for row in board: ## allowing the program to edit each row of the board\n",
        "  ## the code above creates spaces in between the contents in the row\n",
        "    print(' '.join(row))"
      ],
      "metadata": {
        "id": "RZ1qGOD5Z4SJ"
      },
      "execution_count": 3,
      "outputs": []
    },
    {
      "cell_type": "code",
      "source": [
        "def check_empty(board):\n",
        "  '''\n",
        "  function to test if the board has empty spaces\n",
        "  '''\n",
        "  board_flat = [i for row in board for i in row] ## checking function for variable in row in board\n",
        "  if '-' in board_flat:\n",
        "    return True ## board is not full\n",
        "  else:\n",
        "    return False ## board is full, there are no more moves to be made"
      ],
      "metadata": {
        "id": "FSc86pnyZ6Dz"
      },
      "execution_count": 4,
      "outputs": []
    },
    {
      "cell_type": "markdown",
      "source": [
        "```python\n",
        "choice(['win', 'lose', 'draw']) ### can return `win`, `lose` or `draw`\n",
        "```"
      ],
      "metadata": {
        "id": "uc-Gsx6IZ_l2"
      }
    },
    {
      "cell_type": "code",
      "source": [
        "def start(n):\n",
        "  '''\n",
        "  starting the game of tic tac toe with the given board size 'n'\n",
        "  random.choice is randomly selecting the starting player X or O\n",
        "  '''\n",
        "  board = init_board(n) ### initializes and empty tic tac toe board\n",
        "  #### random.choice returns a random element from ['X', 'O']\n",
        "  start_play = random.choice(['X', 'O']) ## randomly selecting the starting player X or O\n",
        "  print(\"Starting with player {}\".format(start_play)) ## prints what player is starting the game X or O\n",
        "\n",
        "  return(start_play, board)"
      ],
      "metadata": {
        "id": "cIBHQj8saAsD"
      },
      "execution_count": 12,
      "outputs": []
    },
    {
      "cell_type": "markdown",
      "source": [
        "```python\n",
        "random.randint(1,3) ### can return 1, 2, or 3\n",
        "```"
      ],
      "metadata": {
        "id": "tAesi73TaGHQ"
      }
    },
    {
      "cell_type": "code",
      "source": [
        "def play(player, board, n):\n",
        "  '''\n",
        "  code for te players movement in game (inputs)\n",
        "  allowing the player to move in the game\n",
        "  ---\n",
        "  - player; specifying which letter or player is making the move X or O\n",
        "  - board; displaying what spaces are taken on the board\n",
        "  '''\n",
        "\n",
        "  if player == 'X': ## checking if player is equal to the str X\n",
        "    print(\"It's your turn!\") ## prints message to let user know to input\n",
        "    row = input('which row (1~3)?') ## asks user to input a row in between 1-3\n",
        "    col = input('which column (1~3)?') ## asks user to input a col in between 1-3\n",
        "\n",
        "\n",
        "    try:\n",
        "      row, col = int(row)-1, int(col)-1 ## convert these values to int and - 1\n",
        "      assert (row >=0) & (row <=n-1) ## checking if the rows meet the conditions\n",
        "      assert (col >=0) & (col <=n-1) ## checking if the cols meet the conditions\n",
        "    except:\n",
        "      print(\"You have to input an integer value between 1 and 3 for row/column\")\n",
        "  ## prints ^^ message if user inputs invalid values that don't meet conditions\n",
        "  ### add comment here for lines 20 - 22\n",
        "\n",
        "  ## code for computer to play\n",
        "  ## code will randomly play; coordinates for a row/col\n",
        "  else:\n",
        "    print(\"It's the computer's turn!\") ## printing the message that it is the computers turn\n",
        "    row, col = random.randint(0,2), random.randint(0,2) ## generating two random integers between 0 and 2\n",
        "\n",
        "\n",
        "  ## test if board is being played by player\n",
        "  if board[row][col] == '-':\n",
        "    board[row][col] = player ## player spaces are '-'\n",
        "  else:\n",
        "    play(player, board, n) ## game continues if not\n",
        "\n",
        "  print_board(board) ## board is updated to reflect the turns\n",
        "\n",
        "  return(board)"
      ],
      "metadata": {
        "id": "XX8MYpYdaRqR"
      },
      "execution_count": 6,
      "outputs": []
    },
    {
      "cell_type": "markdown",
      "source": [
        "```python\n",
        "set([1,1,2,3,3,2]) ### returns (1,2,3)\n",
        "```"
      ],
      "metadata": {
        "id": "L0dV2i1CaW7W"
      }
    },
    {
      "cell_type": "code",
      "source": [
        "def player_win(board):\n",
        "  '''\n",
        "  loops for determing status and plays in diags, cols, or rows\n",
        "  this is checking if a player has won the game yet or not\n",
        "  ---\n",
        "  - board; displaying what spaces are taken on the board\n",
        "  '''\n",
        "  win = False ## stating the game has not been won yet\n",
        "  player = None ## winning player has not been determined\n",
        "\n",
        "\n",
        "  for row in board:\n",
        "    if (len(set(row))==1) & (set(row) != {'-'}):\n",
        "      ## checking if contents in a row are same and not equal to '-'\n",
        "      win = True ## if the above conditions are met, win = True\n",
        "      player = set(row) ## changes the player variable to the symbol that won\n",
        "\n",
        "\n",
        "  for col in list(zip(*board)): ## values in col must be the same and not '-'\n",
        "    if (len(set(col))==1) & (set(col) != {'-'}):\n",
        "      win = True ## win flag in col = True\n",
        "      player = set(col)\n",
        "\n",
        "  ## repeat loop similar to above for diagnols\n",
        "  dia1 = [board[i][i] for i in range(len(board))] ## list of values on first diagnol\n",
        "  dia2 = [board[i][len(board)-1-i] for i in range(len(board))] ## list of values on second diagnol\n",
        "  if (len(set(dia1))==1) & (set(dia1) != {'-'}):\n",
        "    win = True\n",
        "    player = set(dia1)\n",
        "  elif (len(set(dia2))==1) & (set(dia2) != {'-'}):\n",
        "    win = True\n",
        "    player = set(dia2)\n",
        "\n",
        "  if player: ## if loop for player variable\n",
        "    print_board(board) ## print board to update\n",
        "    print('Player {} wins!'.format(player))\n",
        "  return(win)"
      ],
      "metadata": {
        "id": "HT17PnD2aZ2C"
      },
      "execution_count": 7,
      "outputs": []
    },
    {
      "cell_type": "code",
      "source": [
        "def switch_player(player):\n",
        "  '''\n",
        "  this function switches between the players for the game to continue\n",
        "  ---\n",
        "  the players are either X or O\n",
        "  '''\n",
        "  return 'X' if player == 'O' else 'O'"
      ],
      "metadata": {
        "id": "RmoiXXYjab8j"
      },
      "execution_count": 8,
      "outputs": []
    },
    {
      "cell_type": "markdown",
      "source": [
        "```python\n",
        "player=switch_player(player)\n",
        "win=player_win(board)\n",
        "win = False\n",
        "player = start_play\n",
        "play(player, board, n)\n",
        "while check_empty(board) & (not win):\n",
        "start_play, board = start(n)\n",
        "```"
      ],
      "metadata": {
        "id": "nxNuH4VqafC1"
      }
    },
    {
      "cell_type": "code",
      "source": [
        "def tic_tac_toe(n=3):\n",
        "  '''\n",
        "  this function starts the game of tic tac toe\n",
        "  it asks the user to input a row and col both between 1-3\n",
        "  then the computer takes it turn\n",
        "  and a game of tic tac toe is played until somebody wins or there is a tie\n",
        "  '''\n",
        "  start_play, board = start(n) ## start the game\n",
        "\n",
        "  player = start_play\n",
        "\n",
        "  win = False\n",
        "\n",
        "  while check_empty(board) & (not win): ## keep playing while the board is empty and nobody has won\n",
        "    play(player, board, n) ## play the turn that is up\n",
        "\n",
        "    win=player_win(board) ## check if any player has won\n",
        "\n",
        "    player=switch_player(player) ## switch between the players X and O\n",
        "\n",
        "  return None"
      ],
      "metadata": {
        "id": "yYKVaKc0am_k"
      },
      "execution_count": 9,
      "outputs": []
    },
    {
      "cell_type": "markdown",
      "source": [
        "Call the `tic_tac_toe()` function below to make sure it works."
      ],
      "metadata": {
        "id": "-2C9Td2iawWY"
      }
    },
    {
      "cell_type": "code",
      "source": [
        "tic_tac_toe()"
      ],
      "metadata": {
        "colab": {
          "base_uri": "https://localhost:8080/"
        },
        "id": "fg9P6V7Mbp-j",
        "outputId": "d55ee9db-c7a8-4bf0-eb6e-eec362999d57"
      },
      "execution_count": 20,
      "outputs": [
        {
          "output_type": "stream",
          "name": "stdout",
          "text": [
            "Starting with player X\n",
            "It's your turn!\n",
            "which row (1~3)?2\n",
            "which column (1~3)?2\n",
            "- - -\n",
            "- X -\n",
            "- - -\n",
            "It's the computer's turn!\n",
            "O - -\n",
            "- X -\n",
            "- - -\n",
            "It's your turn!\n",
            "which row (1~3)?1\n",
            "which column (1~3)?3\n",
            "O - X\n",
            "- X -\n",
            "- - -\n",
            "It's the computer's turn!\n",
            "O - X\n",
            "O X -\n",
            "- - -\n",
            "It's your turn!\n",
            "which row (1~3)?3\n",
            "which column (1~3)?1\n",
            "O - X\n",
            "O X -\n",
            "X - -\n",
            "O - X\n",
            "O X -\n",
            "X - -\n",
            "Player {'X'} wins!\n"
          ]
        }
      ]
    }
  ]
}